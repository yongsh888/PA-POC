{
 "cells": [
  {
   "cell_type": "code",
   "execution_count": 1,
   "id": "ee964b9d-a160-431d-b957-0345238f9e87",
   "metadata": {},
   "outputs": [],
   "source": [
    "### Saurabh - 30Aug 2023 - Adhoc notebook for PA  \n",
    "#### saurabhmangal@google.com\n",
    "\n",
    "## V2- New updates on 30Aug -made the prompts works by adding token length and using prompting"
   ]
  },
  {
   "cell_type": "markdown",
   "id": "cdf0f818-dd96-49a7-85cb-514b8d1d1e7e",
   "metadata": {},
   "source": [
    "## PA create JSON object for sending to SOLR "
   ]
  },
  {
   "cell_type": "code",
   "execution_count": 88,
   "id": "6dea57ac-6130-4e8c-b3b7-e3e11e4e7007",
   "metadata": {},
   "outputs": [],
   "source": [
    "from langchain import PromptTemplate, LLMChain\n",
    "from langchain.agents import load_tools\n",
    "from langchain.agents import initialize_agent\n",
    "from langchain.agents import AgentType\n",
    "from langchain.llms import VertexAI\n",
    "\n",
    "template = \"\"\"Question: {question}\n",
    "\n",
    "Answer: Let's think step by step.\"\"\"\n",
    "\n",
    "prompt = PromptTemplate(template=template, input_variables=[\"question\"])\n",
    "\n",
    "llm = VertexAI(temperature=0.2,model_name='text-bison@latest', #model_name='text-bison@001'\n",
    "    max_output_tokens=256,\n",
    "    top_p=0.8,\n",
    "    top_k=40,\n",
    "    verbose=True,\n",
    "              )\n",
    "\n",
    "llm_chain = LLMChain(prompt=prompt, llm=llm)\n",
    "\n"
   ]
  },
  {
   "cell_type": "code",
   "execution_count": 89,
   "id": "4395d6c6-1f41-42b9-a721-d187a0460a54",
   "metadata": {},
   "outputs": [
    {
     "name": "stdout",
     "output_type": "stream",
     "text": [
      "               FacType        Area              Location\n",
      "0         Tennis Court     Kallang       Kampong Glam CC\n",
      "1         Tennis Court    Tampines      Our Tampines Hub\n",
      "2     Badminton Courts  Ang Mo Kio         Kebun Baru CC\n",
      "3     Badminton Courts  Ang Mo Kio          Teck Ghee CC\n",
      "4     Badminton Courts  Ang Mo Kio            Thomson CC\n",
      "..                 ...         ...                   ...\n",
      "111  Table Tennis Room   Toa Payoh  Toa Payoh Central CC\n",
      "112  Table Tennis Room   Toa Payoh    Toa Payoh South CC\n",
      "113  Table Tennis Room   Woodlands      ACE The Place CC\n",
      "114  Table Tennis Room      Yishun         Chong Pang CC\n",
      "115       Soccer Field    Tampines      Our Tampines Hub\n",
      "\n",
      "[116 rows x 3 columns]\n"
     ]
    }
   ],
   "source": [
    "import pandas as pd\n",
    "import pprint\n",
    "\n",
    "columns = ['FacType', 'Area', 'Location']\n",
    "# Follow are the FacLoc.CSV raw file I've uploaded to Github for your convenience. The token will expire 7 days from 14 Sep!\n",
    "#sUrlOrFilename = 'https://raw.githubusercontent.com/yongsh888/PA-POC/main/FacLoc.CSV?token=GHSAT0AAAAAACHLXIEU5ZVWV5OXVA5PZZGGZICNQOQ'\n",
    "sUrlOrFilename = 'FacLoc.CSV'\n",
    "dfFacility = pd.read_csv(sUrlOrFilename, header=None, names=columns)\n",
    "pp = pprint.PrettyPrinter()\n",
    "sFacilityTable = pp.pformat(dfFacility)\n",
    "print(sFacilityTable)"
   ]
  },
  {
   "cell_type": "markdown",
   "id": "a570c40b-a8cb-4e5d-a211-98e69feb0859",
   "metadata": {},
   "source": [
    "### Step01: Convert NLP to JSON request"
   ]
  },
  {
   "cell_type": "code",
   "execution_count": 104,
   "id": "66aff864-f181-4d6f-9b95-da75f876c356",
   "metadata": {},
   "outputs": [],
   "source": [
    "import datetime\n",
    "\n",
    "question = \"\"\"Find a badminton court near Bedok next Thur-Fri in the evening\"\"\"\n",
    "\n",
    "# Set today's date to script execution day otherwise 9 Mar 2023 will be used.\n",
    "prompt_01 =  \"Today is \" + datetime.datetime.now().isoformat() + \".\\n\"\n",
    "prompt_01 =  prompt_01 + \"\"\"\n",
    "\n",
    "Convert this question to fill the following fields below. Only return the JSON part: \n",
    "\n",
    "Question : \"\"\" + question +  \"\"\"\n",
    "Fields : \n",
    "{\n",
    "  sports:  example can be badminton, tennis, basketball, table tennis, soccer\n",
    "  map: location examples can be Bedok, Ang Mo Kio, Bishan, Alexandra\n",
    "  start date: date in yyyy-mm-dd format\n",
    "  end date: date in yyyy-mm-dd format\n",
    "  Time : can be all, morning, afternoon or evening\n",
    "}\n",
    "\"\"\"\n",
    "\n",
    "# Following doesn't work too well (\"badminton court\" - no trailing s):\n",
    "# facility: facility correspond to sports, e.g. badminton courts, tennis court, basketball court, table tennis room and soccer field\n"
   ]
  },
  {
   "cell_type": "code",
   "execution_count": 105,
   "id": "26772c46-bfbf-4f0a-91f5-9e8b837511fc",
   "metadata": {},
   "outputs": [
    {
     "name": "stdout",
     "output_type": "stream",
     "text": [
      "response_01 :: \n",
      "  {\n",
      "  \"sports\": \"badminton\",\n",
      "  \"map\": \"Bedok\",\n",
      "  \"start date\": \"2023-09-28\",\n",
      "  \"end date\": \"2023-09-29\",\n",
      "  \"Time\": \"evening\"\n",
      "}\n",
      "{   'Time': 'evening',\n",
      "    'end date': '2023-09-29',\n",
      "    'map': 'Bedok',\n",
      "    'sports': 'badminton',\n",
      "    'start date': '2023-09-28'}\n"
     ]
    }
   ],
   "source": [
    "import json\n",
    "import pprint\n",
    "\n",
    "response_01 = llm_chain.run(prompt_01)\n",
    "#print(\"response_01 :: \\n\",response_01)\n",
    "res = json.loads(response_01)\n",
    "pp = pprint.PrettyPrinter(indent=4)\n",
    "pp.pprint(res)\n",
    "#print(type(response_01))"
   ]
  },
  {
   "cell_type": "markdown",
   "id": "bef97981-2268-4aeb-81fb-60a3e4290db7",
   "metadata": {},
   "source": [
    "### Step02"
   ]
  },
  {
   "cell_type": "code",
   "execution_count": 108,
   "id": "45a831c4-c0a9-4a82-9153-18b7cd9ac19a",
   "metadata": {},
   "outputs": [],
   "source": [
    "prompt_02 = '''Generate a JSON object for a badminton court search request with the following parameters:\n",
    " ''' + respose_01 + ''' The JSON object should have the following structure:\n",
    "\n",
    "json\n",
    "{\n",
    "  \"success\": false,\n",
    "  \"message\": null,\n",
    "  \"data\": {\n",
    "    \"results\": [],\n",
    "    \"actions\": null,\n",
    "    \"slots\": null,\n",
    "    \"errorMsg\": null,\n",
    "    \"labels\": null,\n",
    "    \"categories\": null,\n",
    "    \"outlets\": null,\n",
    "    \"categoryList\": null,\n",
    "    \"date\": \"2023-08-30T00:00:00\",\n",
    "    \"facilityTimeSetting\": {\n",
    "      \"dayRange\": 0,\n",
    "      \"showNextDayFlag\": false\n",
    "    },\n",
    "    \"page\": 12,\n",
    "    \"totalResults\": 84,\n",
    "    \"message\": \"\",\n",
    "    \"query\": \"BADMINTON COURTS\",\n",
    "    \"category\": \"Facility\",\n",
    "    \"map\": \"Bedok\"\n",
    "  }\n",
    "}\n",
    "\n",
    "\n",
    "Please note that the `results` field should be empty, as this is a search request and the results have not yet been \n",
    "retrieved.\n",
    "''' \n",
    "\n",
    "\n"
   ]
  },
  {
   "cell_type": "code",
   "execution_count": 109,
   "id": "c0222a20-b875-45ae-b78a-6b089a542aee",
   "metadata": {},
   "outputs": [
    {
     "name": "stdout",
     "output_type": "stream",
     "text": [
      "respose_02 :: \n",
      "  {\n",
      "  \"success\": false,\n",
      "  \"message\": null,\n",
      "  \"data\": {\n",
      "    \"results\": [],\n",
      "    \"actions\": null,\n",
      "    \"slots\": null,\n",
      "    \"errorMsg\": null,\n",
      "    \"labels\": null,\n",
      "    \"categories\": null,\n",
      "    \"outlets\": null,\n",
      "    \"categoryList\": null,\n",
      "    \"date\": \"2023-08-30T00:00:00\",\n",
      "    \"facilityTimeSetting\": {\n",
      "      \"dayRange\": 0,\n",
      "      \"showNextDayFlag\": false\n",
      "    },\n",
      "    \"page\": 12,\n",
      "    \"totalResults\": 84,\n",
      "    \"message\": \"\",\n",
      "    \"query\": \"BADMINTON COURTS\",\n",
      "    \"category\": \"Facility\",\n",
      "    \"map\": \"Bedok\"\n",
      "  }\n",
      "}\n"
     ]
    }
   ],
   "source": [
    "# question = \"What NFL team won the Super Bowl in the year Justin Beiber was born?\"\n",
    "\n",
    "respose_02 = llm_chain.run(prompt_02)\n",
    "print(\"respose_02 :: \\n\",respose_02)"
   ]
  },
  {
   "cell_type": "markdown",
   "id": "7d0b4abe-3125-489e-a780-094237d0f00d",
   "metadata": {},
   "source": [
    "## Example 02"
   ]
  }
 ],
 "metadata": {
  "environment": {
   "kernel": "python3",
   "name": "common-cu113.m111",
   "type": "gcloud",
   "uri": "gcr.io/deeplearning-platform-release/base-cu113:m111"
  },
  "kernelspec": {
   "display_name": "Python 3",
   "language": "python",
   "name": "python3"
  },
  "language_info": {
   "codemirror_mode": {
    "name": "ipython",
    "version": 3
   },
   "file_extension": ".py",
   "mimetype": "text/x-python",
   "name": "python",
   "nbconvert_exporter": "python",
   "pygments_lexer": "ipython3",
   "version": "3.10.12"
  }
 },
 "nbformat": 4,
 "nbformat_minor": 5
}
