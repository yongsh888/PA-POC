{
 "cells": [
  {
   "cell_type": "code",
   "execution_count": null,
   "id": "ee964b9d-a160-431d-b957-0345238f9e87",
   "metadata": {},
   "outputs": [],
   "source": [
    "### Saurabh - 30Aug 2023 - Adhoc notebook for PA  \n",
    "#### saurabhmangal@google.com\n",
    "\n",
    "## V2- New updates on 30Aug -made the prompts works by adding token length and using prompting"
   ]
  },
  {
   "cell_type": "markdown",
   "id": "ca77688d-cc5e-4a7a-bd5d-fcd5c25c0bf3",
   "metadata": {},
   "source": [
    "## PA create JSON object for sending to SOLR "
   ]
  },
  {
   "cell_type": "code",
   "execution_count": 2,
   "id": "6dea57ac-6130-4e8c-b3b7-e3e11e4e7007",
   "metadata": {},
   "outputs": [],
   "source": [
    "from langchain import PromptTemplate, LLMChain\n",
    "from langchain.agents import load_tools\n",
    "from langchain.agents import initialize_agent\n",
    "from langchain.agents import AgentType\n",
    "from langchain.llms import VertexAI\n",
    "\n",
    "template = \"\"\"Question: {question}\n",
    "\n",
    "Answer: Let's think step by step.\"\"\"\n",
    "\n",
    "prompt = PromptTemplate(template=template, input_variables=[\"question\"])\n",
    "\n",
    "llm = VertexAI(temperature=0.2,model_name='text-bison@latest', #model_name='text-bison@001'\n",
    "    max_output_tokens=256,\n",
    "    top_p=0.8,\n",
    "    top_k=40,\n",
    "    verbose=True,\n",
    "              )\n",
    "\n",
    "llm_chain = LLMChain(prompt=prompt, llm=llm)\n",
    "\n"
   ]
  },
  {
   "cell_type": "markdown",
   "id": "a570c40b-a8cb-4e5d-a211-98e69feb0859",
   "metadata": {},
   "source": [
    "### Step01"
   ]
  },
  {
   "cell_type": "code",
   "execution_count": 3,
   "id": "66aff864-f181-4d6f-9b95-da75f876c356",
   "metadata": {},
   "outputs": [],
   "source": [
    "question = \"\"\"Book a badminton court near Bedok today\"\"\"\n",
    "\n",
    "prompt_01 =  \"\"\"\n",
    "\n",
    "convert this question to fill the following fields below : \n",
    "\n",
    "Question : \"\"\" + question +  \"\"\"\n",
    "Fields : \n",
    "\n",
    "* sports:  example can be badminton, tennis, basketball, table tennis, swimming, \n",
    "* category: Facility\n",
    "* map: location examples can be Bedok, Ang Mo Kio, Bishan, Alexandra\n",
    "* date: \n",
    "* Time : 00:00:00\n",
    "* facilityTimeSetting:\n",
    "    * dayRange: 0\n",
    "    * showNextDayFlag: false\n",
    "* page: 12\n",
    "* totalResults: 84\n",
    "\"\"\""
   ]
  },
  {
   "cell_type": "code",
   "execution_count": 4,
   "id": "26772c46-bfbf-4f0a-91f5-9e8b837511fc",
   "metadata": {},
   "outputs": [
    {
     "name": "stdout",
     "output_type": "stream",
     "text": [
      "respose_01 :: \n",
      "  * sports: badminton\n",
      "* category: Facility\n",
      "* map: Bedok\n",
      "* date: today\n",
      "* Time : 00:00:00\n",
      "* facilityTimeSetting:\n",
      "    * dayRange: 0\n",
      "    * showNextDayFlag: false\n",
      "* page: 12\n",
      "* totalResults: 84\n"
     ]
    }
   ],
   "source": [
    "\n",
    "respose_01 = llm_chain.run(prompt_01)\n",
    "print(\"respose_01 :: \\n\",respose_01)"
   ]
  },
  {
   "cell_type": "markdown",
   "id": "bef97981-2268-4aeb-81fb-60a3e4290db7",
   "metadata": {},
   "source": [
    "### Step02"
   ]
  },
  {
   "cell_type": "code",
   "execution_count": 5,
   "id": "45a831c4-c0a9-4a82-9153-18b7cd9ac19a",
   "metadata": {},
   "outputs": [],
   "source": [
    "prompt_02 = '''Generate a JSON object for a badminton court search request with the following parameters:\n",
    " ''' + respose_01 + ''' The JSON object should have the following structure:\n",
    "\n",
    "json\n",
    "{\n",
    "  \"success\": false,\n",
    "  \"message\": null,\n",
    "  \"data\": {\n",
    "    \"results\": [],\n",
    "    \"actions\": null,\n",
    "    \"slots\": null,\n",
    "    \"errorMsg\": null,\n",
    "    \"labels\": null,\n",
    "    \"categories\": null,\n",
    "    \"outlets\": null,\n",
    "    \"categoryList\": null,\n",
    "    \"date\": \"2023-08-30T00:00:00\",\n",
    "    \"facilityTimeSetting\": {\n",
    "      \"dayRange\": 0,\n",
    "      \"showNextDayFlag\": false\n",
    "    },\n",
    "    \"page\": 12,\n",
    "    \"totalResults\": 84,\n",
    "    \"message\": \"\",\n",
    "    \"query\": \"BADMINTON COURTS\",\n",
    "    \"category\": \"Facility\",\n",
    "    \"map\": \"Bedok\"\n",
    "  }\n",
    "}\n",
    "\n",
    "\n",
    "Please note that the `results` field should be empty, as this is a search request and the results have not yet been \n",
    "retrieved.\n",
    "''' \n",
    "\n",
    "\n"
   ]
  },
  {
   "cell_type": "code",
   "execution_count": 6,
   "id": "c0222a20-b875-45ae-b78a-6b089a542aee",
   "metadata": {},
   "outputs": [
    {
     "name": "stdout",
     "output_type": "stream",
     "text": [
      "respose_02 :: \n",
      "  {\n",
      "  \"success\": false,\n",
      "  \"message\": null,\n",
      "  \"data\": {\n",
      "    \"results\": [],\n",
      "    \"actions\": null,\n",
      "    \"slots\": null,\n",
      "    \"errorMsg\": null,\n",
      "    \"labels\": null,\n",
      "    \"categories\": null,\n",
      "    \"outlets\": null,\n",
      "    \"categoryList\": null,\n",
      "    \"date\": \"2023-08-30T00:00:00\",\n",
      "    \"facilityTimeSetting\": {\n",
      "      \"dayRange\": 0,\n",
      "      \"showNextDayFlag\": false\n",
      "    },\n",
      "    \"page\": 12,\n",
      "    \"totalResults\": 84,\n",
      "    \"message\": \"\",\n",
      "    \"query\": \"BADMINTON COURTS\",\n",
      "    \"category\": \"Facility\",\n",
      "    \"map\": \"Bedok\"\n",
      "  }\n",
      "}\n"
     ]
    }
   ],
   "source": [
    "# question = \"What NFL team won the Super Bowl in the year Justin Beiber was born?\"\n",
    "\n",
    "respose_02 = llm_chain.run(prompt_02)\n",
    "print(\"respose_02 :: \\n\",respose_02)"
   ]
  },
  {
   "cell_type": "markdown",
   "id": "7d0b4abe-3125-489e-a780-094237d0f00d",
   "metadata": {},
   "source": [
    "## Example 02"
   ]
  },
  {
   "cell_type": "code",
   "execution_count": null,
   "id": "22a722c0-0612-4ae5-8683-52bdba8a8be5",
   "metadata": {},
   "outputs": [],
   "source": []
  },
  {
   "cell_type": "code",
   "execution_count": null,
   "id": "049b89c3-04f0-4e0d-aee4-10f0834317bc",
   "metadata": {},
   "outputs": [],
   "source": []
  },
  {
   "cell_type": "code",
   "execution_count": null,
   "id": "c5a95265-eaf4-4082-8a7e-ac14bf8d565f",
   "metadata": {},
   "outputs": [],
   "source": []
  }
 ],
 "metadata": {
  "environment": {
   "kernel": "py311",
   "name": "pytorch-gpu.1-12.m98",
   "type": "gcloud",
   "uri": "gcr.io/deeplearning-platform-release/pytorch-gpu.1-12:m98"
  },
  "kernelspec": {
   "display_name": "py311",
   "language": "python",
   "name": "py311"
  },
  "language_info": {
   "codemirror_mode": {
    "name": "ipython",
    "version": 3
   },
   "file_extension": ".py",
   "mimetype": "text/x-python",
   "name": "python",
   "nbconvert_exporter": "python",
   "pygments_lexer": "ipython3",
   "version": "3.11.3"
  }
 },
 "nbformat": 4,
 "nbformat_minor": 5
}
